{
 "cells": [
  {
   "cell_type": "code",
   "execution_count": 1,
   "id": "36909c4a",
   "metadata": {},
   "outputs": [
    {
     "name": "stdout",
     "output_type": "stream",
     "text": [
      "WARNING:tensorflow:From C:\\Users\\alire\\AppData\\Roaming\\Python\\Python311\\site-packages\\keras\\src\\losses.py:2976: The name tf.losses.sparse_softmax_cross_entropy is deprecated. Please use tf.compat.v1.losses.sparse_softmax_cross_entropy instead.\n",
      "\n"
     ]
    }
   ],
   "source": [
    "from fastapi import FastAPI ,File ,UploadFile\n",
    "import numpy as np\n",
    "from io import BytesIO\n",
    "from PIL import Image\n",
    "import tensorflow as tf\n",
    "import nest_asyncio\n",
    "import uvicorn\n",
    "import asyncio\n",
    "\n",
    "\n"
   ]
  },
  {
   "cell_type": "code",
   "execution_count": 2,
   "id": "7616757f",
   "metadata": {},
   "outputs": [
    {
     "name": "stdout",
     "output_type": "stream",
     "text": [
      "WARNING:tensorflow:From C:\\Users\\alire\\AppData\\Roaming\\Python\\Python311\\site-packages\\keras\\src\\saving\\legacy\\saved_model\\load.py:107: The name tf.gfile.Exists is deprecated. Please use tf.io.gfile.exists instead.\n",
      "\n",
      "WARNING:tensorflow:From C:\\Users\\alire\\AppData\\Roaming\\Python\\Python311\\site-packages\\keras\\src\\layers\\pooling\\max_pooling2d.py:161: The name tf.nn.max_pool is deprecated. Please use tf.nn.max_pool2d instead.\n",
      "\n",
      "WARNING:tensorflow:From C:\\Users\\alire\\AppData\\Roaming\\Python\\Python311\\site-packages\\keras\\src\\utils\\tf_utils.py:585: The name tf.executing_eagerly_outside_functions is deprecated. Please use tf.compat.v1.executing_eagerly_outside_functions instead.\n",
      "\n"
     ]
    }
   ],
   "source": [
    "app= FastAPI()\n",
    "\n",
    "MODEL =tf.keras.models.load_model(\"model/5\")\n",
    "CLASS_NAMES = [\"bending\" , \"lie down\" ,\"sitting\" , \"standing\"]\n",
    "\n",
    "\n",
    "\n",
    "def read_file_as_image(data)-> np.ndarray:\n",
    "    image = np.array(Image.open(BytesIO(data))) \n",
    "    return image\n",
    "    \n",
    "    \n",
    "    \n",
    "@app.post(\"/predict\")\n",
    "async def predict(\n",
    "    file: UploadFile = File(...)\n",
    "\n",
    "):\n",
    "  image = read_file_as_image(await file.read()) \n",
    "  img_batch = np.expand_dims(image , 0)\n",
    "  predictions = MODEL.predict(img_batch)\n",
    "  index =CLASS_NAMES[np.argmax(predictions[0])]\n",
    "  return index"
   ]
  },
  {
   "cell_type": "code",
   "execution_count": 3,
   "id": "438a2165",
   "metadata": {},
   "outputs": [
    {
     "name": "stderr",
     "output_type": "stream",
     "text": [
      "INFO:     Started server process [14096]\n",
      "INFO:     Waiting for application startup.\n",
      "INFO:     Application startup complete.\n",
      "INFO:     Uvicorn running on http://127.0.0.1:8000 (Press CTRL+C to quit)\n"
     ]
    },
    {
     "name": "stdout",
     "output_type": "stream",
     "text": [
      "INFO:     127.0.0.1:62604 - \"GET / HTTP/1.1\" 404 Not Found\n",
      "INFO:     127.0.0.1:62604 - \"GET /favicon.ico HTTP/1.1\" 404 Not Found\n",
      "INFO:     127.0.0.1:62606 - \"GET / HTTP/1.1\" 404 Not Found\n",
      "INFO:     127.0.0.1:62619 - \"GET / HTTP/1.1\" 404 Not Found\n",
      "INFO:     127.0.0.1:62637 - \"GET /docs HTTP/1.1\" 200 OK\n",
      "INFO:     127.0.0.1:62637 - \"GET /openapi.json HTTP/1.1\" 200 OK\n",
      "1/1 [==============================] - 1s 629ms/step\n",
      "INFO:     127.0.0.1:62664 - \"POST /predict HTTP/1.1\" 200 OK\n",
      "1/1 [==============================] - 0s 222ms/step\n",
      "INFO:     127.0.0.1:62677 - \"POST /predict HTTP/1.1\" 200 OK\n",
      "1/1 [==============================] - 0s 40ms/step\n",
      "INFO:     127.0.0.1:62689 - \"POST /predict HTTP/1.1\" 200 OK\n",
      "1/1 [==============================] - 0s 44ms/step\n",
      "INFO:     127.0.0.1:62705 - \"POST /predict HTTP/1.1\" 200 OK\n"
     ]
    }
   ],
   "source": [
    "if __name__ == \"__main__\":\n",
    "    config = uvicorn.Config(app)\n",
    "    server = uvicorn.Server(config)\n",
    "    loop = asyncio.get_running_loop()\n",
    "    loop.create_task(server.serve())\n"
   ]
  },
  {
   "cell_type": "code",
   "execution_count": null,
   "id": "8c3b14a6",
   "metadata": {},
   "outputs": [],
   "source": []
  }
 ],
 "metadata": {
  "kernelspec": {
   "display_name": "Python 3 (ipykernel)",
   "language": "python",
   "name": "python3"
  },
  "language_info": {
   "codemirror_mode": {
    "name": "ipython",
    "version": 3
   },
   "file_extension": ".py",
   "mimetype": "text/x-python",
   "name": "python",
   "nbconvert_exporter": "python",
   "pygments_lexer": "ipython3",
   "version": "3.11.5"
  }
 },
 "nbformat": 4,
 "nbformat_minor": 5
}
