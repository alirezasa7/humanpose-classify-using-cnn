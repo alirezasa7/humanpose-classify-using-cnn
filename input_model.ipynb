{
 "cells": [
  {
   "cell_type": "code",
   "execution_count": 2,
   "id": "e5d71d3b",
   "metadata": {},
   "outputs": [
    {
     "name": "stdout",
     "output_type": "stream",
     "text": [
      "WARNING:tensorflow:From C:\\Users\\alire\\AppData\\Roaming\\Python\\Python311\\site-packages\\keras\\src\\losses.py:2976: The name tf.losses.sparse_softmax_cross_entropy is deprecated. Please use tf.compat.v1.losses.sparse_softmax_cross_entropy instead.\n",
      "\n"
     ]
    }
   ],
   "source": [
    "import tensorflow as tf\n",
    "import keras \n",
    "from keras import layers , models\n",
    "import matplotlib.pyplot as plt\n",
    "import numpy as np"
   ]
  },
  {
   "cell_type": "code",
   "execution_count": 3,
   "id": "ebca7c4e",
   "metadata": {
    "scrolled": true
   },
   "outputs": [
    {
     "name": "stdout",
     "output_type": "stream",
     "text": [
      "Found 4766 files belonging to 4 classes.\n"
     ]
    },
    {
     "data": {
      "text/plain": [
       "149"
      ]
     },
     "execution_count": 3,
     "metadata": {},
     "output_type": "execute_result"
    }
   ],
   "source": [
    "dataset = tf.keras.preprocessing.image_dataset_from_directory(\n",
    "    \"humanpose\",\n",
    "    shuffle = True ,\n",
    "    image_size = (512 , 512),\n",
    "    batch_size = 32\n",
    "    \n",
    ")\n",
    "len(dataset)"
   ]
  },
  {
   "cell_type": "code",
   "execution_count": 4,
   "id": "503e4b40",
   "metadata": {},
   "outputs": [
    {
     "data": {
      "text/plain": [
       "['bending', 'lie down', 'sitting', 'standing']"
      ]
     },
     "execution_count": 4,
     "metadata": {},
     "output_type": "execute_result"
    }
   ],
   "source": [
    "class_names = dataset.class_names\n",
    "class_names"
   ]
  },
  {
   "cell_type": "code",
   "execution_count": 5,
   "id": "4af05f12",
   "metadata": {},
   "outputs": [],
   "source": [
    "def dataset_partition (ds , train_split=0.8 , valid_split=0.1 , test_split=0.1 , shuffle=True , shuffle_size=10000 ):\n",
    "    ds_size = len(ds)\n",
    "    \n",
    "    if shuffle:\n",
    "        ds=ds.shuffle(shuffle_size , seed=12)\n",
    "    \n",
    "    \n",
    "    train_size = int(train_split * ds_size)\n",
    "    val_size = int(valid_split * ds_size)\n",
    "\n",
    "    \n",
    "    train_ds = ds.take(train_size)\n",
    "    val_ds = ds.skip(train_size).take(val_size)\n",
    "    test_ds = ds.skip(train_size).skip(val_size)\n",
    "\n",
    "    \n",
    "    \n",
    "    return train_ds , val_ds , test_ds\n",
    "    \n",
    "    \n"
   ]
  },
  {
   "cell_type": "code",
   "execution_count": 6,
   "id": "e9477845",
   "metadata": {},
   "outputs": [
    {
     "data": {
      "text/plain": [
       "(119, 14, 16)"
      ]
     },
     "execution_count": 6,
     "metadata": {},
     "output_type": "execute_result"
    }
   ],
   "source": [
    "train_ds , val_ds , test_ds = dataset_partition(dataset)\n",
    "len(train_ds) , len(val_ds) , len(test_ds)"
   ]
  },
  {
   "cell_type": "code",
   "execution_count": 7,
   "id": "3e7c56b1",
   "metadata": {},
   "outputs": [],
   "source": [
    "train_ds = train_ds.cache().shuffle(1000).prefetch(buffer_size=tf.data.AUTOTUNE)\n",
    "val_ds = val_ds.cache().shuffle(1000).prefetch(buffer_size=tf.data.AUTOTUNE)\n",
    "test_ds = test_ds.cache().shuffle(1000).prefetch(buffer_size=tf.data.AUTOTUNE)"
   ]
  },
  {
   "cell_type": "code",
   "execution_count": 8,
   "id": "06a5c2d8",
   "metadata": {},
   "outputs": [
    {
     "name": "stdout",
     "output_type": "stream",
     "text": [
      "WARNING:tensorflow:From C:\\Users\\alire\\AppData\\Roaming\\Python\\Python311\\site-packages\\keras\\src\\backend.py:873: The name tf.get_default_graph is deprecated. Please use tf.compat.v1.get_default_graph instead.\n",
      "\n"
     ]
    }
   ],
   "source": [
    "resize_and_rescale = tf.keras.Sequential([\n",
    "    layers.experimental.preprocessing.Resizing(256 , 256) ,\n",
    "    layers.experimental.preprocessing.Rescaling(1.0/255) \n",
    "])"
   ]
  },
  {
   "cell_type": "code",
   "execution_count": 14,
   "id": "60e0d979",
   "metadata": {},
   "outputs": [],
   "source": [
    "model = models.Sequential([\n",
    "    resize_and_rescale ,\n",
    "    layers.Conv2D(32 , (3,3) , activation='relu' , input_shape=(32,256,256,3)) ,\n",
    "    layers.MaxPooling2D((2,2)) ,\n",
    "    layers.Conv2D(64 , kernel_size= (3,3) , activation='relu') ,\n",
    "    layers.MaxPooling2D((2,2)) ,\n",
    "    layers.Conv2D(64 , kernel_size= (3,3) , activation='relu') ,\n",
    "    layers.MaxPooling2D((2,2)) ,\n",
    "    layers.Conv2D(64 , (3,3) , activation='relu') ,\n",
    "    layers.MaxPooling2D((2,2)),\n",
    "    layers.Conv2D(64 , (3,3) , activation='relu') ,\n",
    "    layers.MaxPooling2D((2,2)),\n",
    "    layers.Conv2D(64 , (3,3) , activation='relu') ,\n",
    "    layers.MaxPooling2D((2,2)),\n",
    "    layers.Flatten(),\n",
    "    layers.Dense(64 , activation='relu'),\n",
    "    layers.Dense(4 , activation='softmax'),\n",
    "\n",
    "])\n",
    "\n",
    "model.build(input_shape=(32,256,256,3))\n"
   ]
  },
  {
   "cell_type": "code",
   "execution_count": 15,
   "id": "ef102fa2",
   "metadata": {},
   "outputs": [],
   "source": [
    "model.compile(\n",
    "    optimizer='adam' ,\n",
    "    loss=tf.keras.losses.SparseCategoricalCrossentropy(from_logits=False),\n",
    "    metrics=['accuracy']\n",
    ")"
   ]
  },
  {
   "cell_type": "code",
   "execution_count": 16,
   "id": "bc5da882",
   "metadata": {},
   "outputs": [
    {
     "name": "stdout",
     "output_type": "stream",
     "text": [
      "Epoch 1/10\n",
      "WARNING:tensorflow:From C:\\Users\\alire\\AppData\\Roaming\\Python\\Python311\\site-packages\\keras\\src\\utils\\tf_utils.py:492: The name tf.ragged.RaggedTensorValue is deprecated. Please use tf.compat.v1.ragged.RaggedTensorValue instead.\n",
      "\n",
      "WARNING:tensorflow:From C:\\Users\\alire\\AppData\\Roaming\\Python\\Python311\\site-packages\\keras\\src\\engine\\base_layer_utils.py:384: The name tf.executing_eagerly_outside_functions is deprecated. Please use tf.compat.v1.executing_eagerly_outside_functions instead.\n",
      "\n",
      "119/119 [==============================] - 164s 1s/step - loss: 0.6479 - accuracy: 0.7525 - val_loss: 0.2350 - val_accuracy: 0.9260\n",
      "Epoch 2/10\n",
      "119/119 [==============================] - 121s 1s/step - loss: 0.3295 - accuracy: 0.8896 - val_loss: 0.1463 - val_accuracy: 0.9574\n",
      "Epoch 3/10\n",
      "119/119 [==============================] - 105s 881ms/step - loss: 0.2467 - accuracy: 0.9170 - val_loss: 0.1264 - val_accuracy: 0.9664\n",
      "Epoch 4/10\n",
      "119/119 [==============================] - 111s 932ms/step - loss: 0.1760 - accuracy: 0.9417 - val_loss: 0.0903 - val_accuracy: 0.9731\n",
      "Epoch 5/10\n",
      "119/119 [==============================] - 109s 916ms/step - loss: 0.1405 - accuracy: 0.9496 - val_loss: 0.0801 - val_accuracy: 0.9753\n",
      "Epoch 6/10\n",
      "119/119 [==============================] - 106s 888ms/step - loss: 0.1164 - accuracy: 0.9616 - val_loss: 0.0735 - val_accuracy: 0.9753\n",
      "Epoch 7/10\n",
      "119/119 [==============================] - 110s 921ms/step - loss: 0.0682 - accuracy: 0.9764 - val_loss: 0.0742 - val_accuracy: 0.9753\n",
      "Epoch 8/10\n",
      "119/119 [==============================] - 102s 849ms/step - loss: 0.1047 - accuracy: 0.9648 - val_loss: 0.0301 - val_accuracy: 0.9865\n",
      "Epoch 9/10\n",
      "119/119 [==============================] - 96s 805ms/step - loss: 0.0540 - accuracy: 0.9803 - val_loss: 0.0577 - val_accuracy: 0.9821\n",
      "Epoch 10/10\n",
      "119/119 [==============================] - 96s 809ms/step - loss: 0.0368 - accuracy: 0.9884 - val_loss: 0.0953 - val_accuracy: 0.9731\n"
     ]
    },
    {
     "data": {
      "text/plain": [
       "<keras.src.callbacks.History at 0x1289f1c3210>"
      ]
     },
     "execution_count": 16,
     "metadata": {},
     "output_type": "execute_result"
    }
   ],
   "source": [
    "model.fit(\n",
    "    train_ds , \n",
    "    epochs=10 , \n",
    "    batch_size=32 , \n",
    "    verbose=1 , \n",
    "    validation_data=val_ds\n",
    "\n",
    "\n",
    "\n",
    ")"
   ]
  },
  {
   "cell_type": "code",
   "execution_count": 17,
   "id": "bcd35b25",
   "metadata": {
    "scrolled": true
   },
   "outputs": [
    {
     "name": "stdout",
     "output_type": "stream",
     "text": [
      "16/16 [==============================] - 5s 322ms/step - loss: 0.1384 - accuracy: 0.9570\n"
     ]
    }
   ],
   "source": [
    "scores = model.evaluate(test_ds)"
   ]
  },
  {
   "cell_type": "code",
   "execution_count": 18,
   "id": "9820154a",
   "metadata": {},
   "outputs": [],
   "source": [
    "def predict(model , img):\n",
    "    img_array = tf.keras.preprocessing.image.img_to_array(images[i].numpy())\n",
    "    img_array = tf.expand_dims(img_array , 0)\n",
    "    \n",
    "    prediction = model.predict(img_array)\n",
    "    predicted_class = class_names[np.argmax(prediction[0])]\n",
    "    \n",
    "    return predicted_class"
   ]
  },
  {
   "cell_type": "code",
   "execution_count": 21,
   "id": "e174cfd2",
   "metadata": {},
   "outputs": [
    {
     "name": "stdout",
     "output_type": "stream",
     "text": [
      "1/1 [==============================] - 0s 31ms/step\n",
      "1/1 [==============================] - 0s 35ms/step\n",
      "1/1 [==============================] - 0s 31ms/step\n",
      "1/1 [==============================] - 0s 30ms/step\n",
      "1/1 [==============================] - 0s 33ms/step\n",
      "1/1 [==============================] - 0s 31ms/step\n",
      "1/1 [==============================] - 0s 31ms/step\n",
      "1/1 [==============================] - 0s 33ms/step\n"
     ]
    },
    {
     "data": {
      "image/png": "[encoded data removed]",
      "text/plain": [
       "<Figure size 640x480 with 8 Axes>"
      ]
     },
     "metadata": {},
     "output_type": "display_data"
    }
   ],
   "source": [
    "for images , labels in test_ds.take(1):\n",
    "    for i in range(8):\n",
    "        ax = plt.subplot(3 ,3, i + 1)\n",
    "        plt.imshow(images[i].numpy().astype(\"uint8\"))\n",
    "        predicted_class = predict(model , images[i].numpy())\n",
    "        plt.title(f\"pose: {predicted_class}\")\n",
    "        \n",
    "        ax = plt.gca()\n",
    "        ax.get_xaxis().set_visible(False)\n",
    "        ax.get_yaxis().set_visible(False)"
   ]
  },
  {
   "cell_type": "code",
   "execution_count": 22,
   "id": "159bf07c",
   "metadata": {},
   "outputs": [
    {
     "name": "stdout",
     "output_type": "stream",
     "text": [
      "INFO:tensorflow:Assets written to: model/5\\assets\n"
     ]
    },
    {
     "name": "stderr",
     "output_type": "stream",
     "text": [
      "INFO:tensorflow:Assets written to: model/5\\assets\n"
     ]
    }
   ],
   "source": [
    "model_version = 5\n",
    "model.save(f\"model/{model_version}\")"
   ]
  },
  {
   "cell_type": "code",
   "execution_count": null,
   "id": "0779bca3",
   "metadata": {},
   "outputs": [],
   "source": []
  }
 ],
 "metadata": {
  "kernelspec": {
   "display_name": "Python 3 (ipykernel)",
   "language": "python",
   "name": "python3"
  },
  "language_info": {
   "codemirror_mode": {
    "name": "ipython",
    "version": 3
   },
   "file_extension": ".py",
   "mimetype": "text/x-python",
   "name": "python",
   "nbconvert_exporter": "python",
   "pygments_lexer": "ipython3",
   "version": "3.11.5"
  }
 },
 "nbformat": 4,
 "nbformat_minor": 5
}
